{
 "cells": [
  {
   "cell_type": "code",
   "id": "initial_id",
   "metadata": {
    "collapsed": true
   },
   "source": [
    "import pandas as pd\n",
    "\n",
    "from select_caption_data import (\n",
    "    load_musiccaps_balanced_subset,\n",
    "    LOW_QUALITY_LABELS,\n",
    "    remove_by_matching_labels,\n",
    "    load_musiccaps_genre_annotations,\n",
    "    load_song_describer_data_for_generation,\n",
    "    load_mtg_jamendo_genre_annotations,\n",
    ")"
   ],
   "outputs": [],
   "execution_count": null
  },
  {
   "cell_type": "code",
   "source": [
    "mc_df = load_musiccaps_balanced_subset(\"data/musiccaps/musiccaps-public.csv\")\n",
    "mc_df = remove_by_matching_labels(mc_df, LOW_QUALITY_LABELS, \"aspect_list\")\n",
    "len(mc_df)"
   ],
   "metadata": {
    "collapsed": false
   },
   "id": "ba3fda6a69795888",
   "outputs": [],
   "execution_count": null
  },
  {
   "cell_type": "code",
   "source": [
    "# remove any ids from videos that errored out\n",
    "\n",
    "with open(\"data/musiccaps/error.log\", \"r\") as f:\n",
    "    missing_ids = set(f.read().split(\"\\n\"))\n",
    "if \"\" in missing_ids:\n",
    "    missing_ids.remove(\"\")\n",
    "mc_df = mc_df[~mc_df[\"ytid\"].isin(missing_ids)]\n",
    "len(mc_df)"
   ],
   "metadata": {
    "collapsed": false
   },
   "id": "924a74cdd7fe3fd1",
   "outputs": [],
   "execution_count": null
  },
  {
   "cell_type": "code",
   "source": [
    "mc_genres = load_musiccaps_genre_annotations(\"data/musiccaps/musiccaps_preds.csv\")\n",
    "mc_genres = mc_genres.rename(\"genres\")\n",
    "mc_df = mc_df.merge(mc_genres, how=\"left\", left_on=[\"ytid\"], right_on=[\"name\"])\n",
    "\n",
    "mc_df.describe()"
   ],
   "metadata": {
    "collapsed": false
   },
   "id": "136078ee39be5c80",
   "outputs": [],
   "execution_count": null
  },
  {
   "cell_type": "code",
   "source": [
    "mc_df"
   ],
   "metadata": {
    "collapsed": false
   },
   "id": "a796dc6cbb033b11",
   "outputs": [],
   "execution_count": null
  },
  {
   "cell_type": "code",
   "source": [
    "mc_df = mc_df[\n",
    "    ~mc_df[\"genres\"].isin(\n",
    "        [\"Stage & Screen\", \"Non-Music\", \"Children's\", \"Brass & Military\"]\n",
    "    )\n",
    "]\n",
    "len(mc_df)"
   ],
   "metadata": {
    "collapsed": false
   },
   "id": "dd2bfa41c0f090d5",
   "outputs": [],
   "execution_count": null
  },
  {
   "cell_type": "code",
   "source": [
    "mc_df[\"genres\"].value_counts()"
   ],
   "metadata": {
    "collapsed": false
   },
   "id": "c8a4766f33c89777",
   "outputs": [],
   "execution_count": null
  },
  {
   "cell_type": "code",
   "source": [
    "# 648 - (78 + 17 + 11 + 3 * 15)"
   ],
   "metadata": {
    "collapsed": false
   },
   "id": "ba9cea3bd308e41a",
   "outputs": [],
   "execution_count": null
  },
  {
   "cell_type": "code",
   "source": [
    "# cap all genres to 85 samples\n",
    "mc_df = mc_df.groupby(\"genres\").head(85)"
   ],
   "metadata": {
    "collapsed": false
   },
   "id": "541c2c27a2699c04",
   "outputs": [],
   "execution_count": null
  },
  {
   "cell_type": "code",
   "source": [
    "mc_df[\"genres\"].value_counts().plot(\n",
    "    kind=\"bar\",\n",
    "    title=f\"MusicCaps Genre Distribution (N={len(mc_df)})\",\n",
    "    xlabel=\"Genre\",\n",
    "    ylabel=\"Number of Samples\",\n",
    ")"
   ],
   "metadata": {
    "collapsed": false
   },
   "id": "3fb43d275474b28d",
   "outputs": [],
   "execution_count": null
  },
  {
   "cell_type": "code",
   "source": [
    "# save to csv\n",
    "# mc_df.to_csv(\"data/musiccaps/musiccaps-for-generation.csv\", index=False)"
   ],
   "metadata": {
    "collapsed": false
   },
   "id": "c7aed9818f48e3c8",
   "outputs": [],
   "execution_count": null
  },
  {
   "cell_type": "code",
   "source": [
    "sdd_df = load_song_describer_data_for_generation(\n",
    "    \"data/SongDescriberDataset/song_describer.csv\",\n",
    "    \"data/SongDescriberDataset/music-classification-annotations-clean.tsv\",\n",
    ")\n",
    "print(sdd_df[\"track_id\"].nunique())\n",
    "sdd_df"
   ],
   "metadata": {
    "collapsed": false
   },
   "id": "8ef13db76e1a61f4",
   "outputs": [],
   "execution_count": null
  },
  {
   "cell_type": "code",
   "source": [
    "mtg_genres = load_mtg_jamendo_genre_annotations(\"data/mtg-jamendo-predictions.tsv\")\n",
    "mtg_genres"
   ],
   "metadata": {
    "collapsed": false
   },
   "id": "ed673a9d0b6c4712",
   "outputs": [],
   "execution_count": null
  },
  {
   "cell_type": "code",
   "source": [
    "sdd_df = sdd_df.merge(mtg_genres, how=\"left\", left_on=\"track_id\", right_index=True)\n",
    "sdd_df = sdd_df[\n",
    "    ~sdd_df[\"genre\"].isin(\n",
    "        [\"Stage & Screen\", \"Non-Music\", \"Children's\", \"Brass & Military\"]\n",
    "    )\n",
    "]\n",
    "print(sdd_df[\"track_id\"].nunique())\n",
    "sdd_df"
   ],
   "metadata": {
    "collapsed": false
   },
   "id": "7f2ad2a6b0b97ee8",
   "outputs": [],
   "execution_count": null
  },
  {
   "cell_type": "code",
   "source": [
    "# sdd_df.to_csv(\"data/SongDescriberDataset/song_describer-for-generation.csv\", index=False)"
   ],
   "metadata": {
    "collapsed": false
   },
   "id": "7ce5e370ed5a76e4",
   "outputs": [],
   "execution_count": null
  },
  {
   "cell_type": "code",
   "source": [
    "sdd_genre_counts = sdd_df.groupby(\"track_id\")[\"genre\"].first().value_counts()\n",
    "# sdd_genre_counts.index = sdd_genre_counts.index.str[0]\n",
    "sdd_genre_counts.plot(\n",
    "    kind=\"bar\",\n",
    "    title=f\"SongDescriber Genre Distribution (N={len(sdd_df.groupby('track_id'))})\",\n",
    "    xlabel=\"Genre\",\n",
    "    ylabel=\"Number of Samples\",\n",
    ")"
   ],
   "metadata": {
    "collapsed": false
   },
   "id": "2465c5d07ba42edc",
   "outputs": [],
   "execution_count": null
  },
  {
   "cell_type": "code",
   "source": [
    "mc_genre_counts = mc_df[\"genres\"].value_counts()"
   ],
   "metadata": {
    "collapsed": false
   },
   "id": "4655b7ea0b3a7321",
   "outputs": [],
   "execution_count": null
  },
  {
   "cell_type": "code",
   "source": [
    "summed_genre_counts = pd.concat(\n",
    "    [sdd_genre_counts, mc_genre_counts], axis=1, keys=[\"SongDescriber\", \"MusicCaps\"]\n",
    ").fillna(0)\n",
    "summed_genre_counts[\"Total\"] = summed_genre_counts.sum(axis=1)\n",
    "summed_genre_counts = summed_genre_counts.sort_values(\"Total\", ascending=False)\n",
    "summed_genre_counts = summed_genre_counts.sort_index(axis=1, ascending=False)"
   ],
   "metadata": {
    "collapsed": false
   },
   "id": "44eb573ab06411cb",
   "outputs": [],
   "execution_count": null
  },
  {
   "cell_type": "code",
   "source": [
    "summed_genre_counts.plot(\n",
    "    kind=\"bar\",\n",
    "    title=\"Genre Distribution Comparison\",\n",
    "    xlabel=\"Genre\",\n",
    "    ylabel=\"Number of Samples\",\n",
    ")"
   ],
   "metadata": {
    "collapsed": false
   },
   "id": "cb5f5cfcb7e35f9e",
   "outputs": [],
   "execution_count": null
  },
  {
   "cell_type": "code",
   "source": [],
   "metadata": {
    "collapsed": false
   },
   "id": "4ac26d4f3fe5804c",
   "outputs": [],
   "execution_count": null
  }
 ],
 "metadata": {
  "kernelspec": {
   "display_name": "Python 3",
   "language": "python",
   "name": "python3"
  },
  "language_info": {
   "codemirror_mode": {
    "name": "ipython",
    "version": 2
   },
   "file_extension": ".py",
   "mimetype": "text/x-python",
   "name": "python",
   "nbconvert_exporter": "python",
   "pygments_lexer": "ipython2",
   "version": "2.7.6"
  }
 },
 "nbformat": 4,
 "nbformat_minor": 5
}
