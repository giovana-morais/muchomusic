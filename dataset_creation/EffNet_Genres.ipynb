{
 "nbformat": 4,
 "nbformat_minor": 0,
 "metadata": {
  "colab": {
   "provenance": [],
   "gpuType": "T4"
  },
  "kernelspec": {
   "name": "python3",
   "display_name": "Python 3"
  },
  "language_info": {
   "name": "python"
  },
  "accelerator": "GPU"
 },
 "cells": [
  {
   "cell_type": "code",
   "metadata": {
    "colab": {
     "base_uri": "https://localhost:8080/"
    },
    "id": "Ng6PdL2iQuG3",
    "outputId": "2476ecbb-6a50-4f75-884e-9cc771767425"
   },
   "source": [
    "!pip install essentia-tensorflow"
   ],
   "outputs": [],
   "execution_count": null
  },
  {
   "cell_type": "code",
   "source": [
    "!curl -Z -O https://essentia.upf.edu/models/feature-extractors/discogs-effnet/discogs-effnet-bs64-1.pb \\\n",
    "-O https://essentia.upf.edu/models/classification-heads/genre_discogs400/genre_discogs400-discogs-effnet-1.pb \\\n",
    "-O https://essentia.upf.edu/models/classification-heads/genre_discogs400/genre_discogs400-discogs-effnet-1.json"
   ],
   "metadata": {
    "colab": {
     "base_uri": "https://localhost:8080/"
    },
    "id": "iUgCsGgMSdiu",
    "outputId": "ff45aadc-b77d-4c70-a1a4-0832c0592174"
   },
   "outputs": [],
   "execution_count": null
  },
  {
   "metadata": {},
   "cell_type": "markdown",
   "source": "See the [Essentia documentation](https://essentia.upf.edu/models.html) for more information on the models."
  },
  {
   "cell_type": "code",
   "source": [
    "import json\n",
    "from collections import defaultdict\n",
    "from pathlib import Path\n",
    "from tqdm import tqdm\n",
    "\n",
    "with open(\"genre_discogs400-discogs-effnet-1.json\") as fh:\n",
    "  metadata = json.load(fh)\n",
    "class_map = metadata[\"classes\"]"
   ],
   "metadata": {
    "id": "Rly_S_SCS6ds"
   },
   "outputs": [],
   "execution_count": null
  },
  {
   "cell_type": "code",
   "source": [
    "categories = defaultdict(list)\n",
    "for i, class_name in enumerate(class_map):\n",
    "  cat, sub_cat = class_name.split(\"---\")\n",
    "  categories[cat].append(i)\n",
    "cat_ranges = {}\n",
    "for cat, values in categories.items():\n",
    "  cat_ranges[cat] = min(values), max(values)"
   ],
   "metadata": {
    "id": "DfmoJb4ZTlQd"
   },
   "outputs": [],
   "execution_count": null
  },
  {
   "cell_type": "code",
   "source": [
    "cat_ranges"
   ],
   "metadata": {
    "colab": {
     "base_uri": "https://localhost:8080/"
    },
    "id": "YIewhxIehS6s",
    "outputId": "b8a20fe2-9d10-4306-9c04-7494cf6a2843"
   },
   "outputs": [],
   "execution_count": null
  },
  {
   "cell_type": "code",
   "source": [
    "from essentia.standard import MonoLoader, TensorflowPredictEffnetDiscogs, TensorflowPredict2D\n",
    "\n",
    "audio = MonoLoader(filename=\"musiccaps/-bgHkxwoliw_30.mp3\", sampleRate=16000, resampleQuality=4)()\n",
    "backend_model = TensorflowPredictEffnetDiscogs(graphFilename=\"discogs-effnet-bs64-1.pb\", output=\"PartitionedCall:1\")\n",
    "embeddings = backend_model(audio)"
   ],
   "metadata": {
    "id": "Nk4xZTwXQw6Q"
   },
   "outputs": [],
   "execution_count": null
  },
  {
   "cell_type": "code",
   "source": [
    "classifier = TensorflowPredict2D(graphFilename=\"genre_discogs400-discogs-effnet-1.pb\", input=\"serving_default_model_Placeholder\", output=\"PartitionedCall:0\")\n",
    "predictions = classifier(embeddings).mean(0)"
   ],
   "metadata": {
    "id": "CIZW_Oy5R9Xe"
   },
   "outputs": [],
   "execution_count": null
  },
  {
   "cell_type": "code",
   "source": [
    "class_map[predictions.mean(0).argmax()]"
   ],
   "metadata": {
    "colab": {
     "base_uri": "https://localhost:8080/",
     "height": 35
    },
    "id": "PkbMjO8OSreL",
    "outputId": "76a0fbe7-12c5-4bf5-c832-e2ef8f18e9f1"
   },
   "outputs": [],
   "execution_count": null
  },
  {
   "cell_type": "code",
   "source": "musiccaps_path = Path(\"musiccaps\")",
   "metadata": {
    "id": "gJU4VFY_SILw"
   },
   "outputs": [],
   "execution_count": null
  },
  {
   "cell_type": "code",
   "source": [
    "import tensorflow as tf\n",
    "tf.config.list_physical_devices('GPU')"
   ],
   "metadata": {
    "colab": {
     "base_uri": "https://localhost:8080/"
    },
    "id": "WErUaU-wwq5w",
    "outputId": "7bc9a9b3-153d-4e43-bf3a-b38bcd2fc5e0"
   },
   "outputs": [],
   "execution_count": null
  },
  {
   "cell_type": "code",
   "source": [
    "results = {}\n",
    "all_predictions = {}\n",
    "for file_path in tqdm(musiccaps_path.iterdir(), total=990):\n",
    "  audio = MonoLoader(filename=str(file_path), sampleRate=16000, resampleQuality=4)()\n",
    "  embeddings = backend_model(audio)\n",
    "  predictions = classifier(embeddings).mean(0)\n",
    "  genre_label = class_map[predictions.argmax()].split(\"---\")[0]\n",
    "  results[file_path.name] = genre_label\n",
    "  all_predictions[file_path.name] = predictions.tolist()"
   ],
   "metadata": {
    "colab": {
     "base_uri": "https://localhost:8080/"
    },
    "id": "pQpEat-EjDfV",
    "outputId": "1a24bbe8-c483-4347-9acd-bb2c0af26adf"
   },
   "outputs": [],
   "execution_count": null
  },
  {
   "cell_type": "code",
   "source": [
    "with open(\"musiccaps_genres.json\", \"w\") as fh:\n",
    "  json.dump(results, fh)"
   ],
   "metadata": {
    "id": "QkTeEoOdrFK-"
   },
   "outputs": [],
   "execution_count": null
  },
  {
   "cell_type": "code",
   "source": [
    "import csv\n",
    "with open(\"musiccaps_preds.csv\", \"w\", newline=\"\") as fh:\n",
    "  mywriter = csv.writer(fh)\n",
    "  mywriter.writerow([\"name\"] + class_map)\n",
    "  for name, vals in all_predictions.items():\n",
    "    mywriter.writerow([name] + vals)"
   ],
   "metadata": {
    "id": "bUVGz7ERsBvj"
   },
   "outputs": [],
   "execution_count": null
  },
  {
   "cell_type": "code",
   "source": [],
   "metadata": {
    "id": "ylp6sLQHylVp"
   },
   "outputs": [],
   "execution_count": null
  }
 ]
}
