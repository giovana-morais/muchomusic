{
 "cells": [
  {
   "cell_type": "code",
   "id": "initial_id",
   "metadata": {
    "collapsed": true
   },
   "source": [
    "import pandas as pd\n",
    "import seaborn as sns"
   ],
   "outputs": [],
   "execution_count": null
  },
  {
   "cell_type": "code",
   "source": [
    "annotation_df = pd.read_csv(\"data/annotation.csv\", dtype={\"answer\": str}, index_col=\"id\")\n",
    "question_df = pd.read_csv(\"data/question.csv\", index_col=\"id\")\n",
    "annotation_df = annotation_df.merge(question_df, left_on=\"question_id\", right_index=True)\n",
    "annotation_df[\"answer\"] = annotation_df[\"answer\"].fillna(\"\")"
   ],
   "metadata": {
    "collapsed": false
   },
   "id": "7123f8f8a1ee5b1d",
   "outputs": [],
   "execution_count": null
  },
  {
   "cell_type": "code",
   "source": [
    "def rename_question_columns(name):\n",
    "    if name in [\"correct\", \"distractor_1\", \"distractor_2\", \"distractor_3\"]:\n",
    "        return f\"{name}_answer\"\n",
    "    return name"
   ],
   "metadata": {
    "collapsed": false
   },
   "id": "1829e29c28142c80",
   "outputs": [],
   "execution_count": null
  },
  {
   "cell_type": "code",
   "source": [
    "annotation_df = annotation_df.rename(columns=rename_question_columns)"
   ],
   "metadata": {
    "collapsed": false
   },
   "id": "3a8c6a21608c12af",
   "outputs": [],
   "execution_count": null
  },
  {
   "cell_type": "code",
   "source": [
    "annotation_df = annotation_df[~annotation_df[\"unfinished\"]].drop(columns=[\"unfinished\"])"
   ],
   "metadata": {
    "collapsed": false
   },
   "id": "d97183bd2cc34ebc",
   "outputs": [],
   "execution_count": null
  },
  {
   "cell_type": "code",
   "source": "",
   "metadata": {
    "collapsed": false
   },
   "id": "beee9599eb91060f",
   "outputs": [],
   "execution_count": null
  },
  {
   "cell_type": "code",
   "source": [
    "annotation_df"
   ],
   "metadata": {
    "collapsed": false
   },
   "id": "16e73f75e84e64e3",
   "outputs": [],
   "execution_count": null
  },
  {
   "cell_type": "code",
   "source": [
    "# plot the correct rate (answer==\"0\") for each participant\n",
    "annotation_df[\"labelled_0\"] = annotation_df[\"answer\"].apply(lambda x: x == \"0\")\n",
    "ax = sns.histplot(annotation_df.groupby(\"participant_id\")[\"labelled_0\"].mean(), bins=21, kde=True)\n",
    "ax.set_title(\"Distribution of answer=='0' rate per participant\")\n",
    "ax"
   ],
   "metadata": {
    "collapsed": false
   },
   "id": "be63343fee4e8099",
   "outputs": [],
   "execution_count": null
  },
  {
   "cell_type": "code",
   "source": [
    "# plot the average time spent split by dataset\n",
    "#sns.histplot(annotation_df, x=\"time\", hue=\"dataset\", log_scale=True)\n",
    "ax = sns.histplot(annotation_df[(annotation_df[\"time\"] < 180) & (annotation_df[\"time\"] > 1)], x=\"time\", hue=\"dataset\")\n",
    "ax.set_title(\"Time spent per annotation\")\n",
    "ax.get_figure().savefig(\"data/plots/annotation_time.png\")"
   ],
   "metadata": {
    "collapsed": false
   },
   "id": "1dc9d7af4c495cc2",
   "outputs": [],
   "execution_count": null
  },
  {
   "cell_type": "code",
   "source": [
    "sns.boxenplot(annotation_df, x=\"time\", hue=\"dataset\", showfliers=False)"
   ],
   "metadata": {
    "collapsed": false
   },
   "id": "f9dd3c493366fa35",
   "outputs": [],
   "execution_count": null
  },
  {
   "cell_type": "code",
   "source": [
    "print(f\"Number of participants: {annotation_df['participant_id'].nunique()}\")"
   ],
   "metadata": {
    "collapsed": false
   },
   "id": "2c10a287fc6fc9fa",
   "outputs": [],
   "execution_count": null
  },
  {
   "cell_type": "code",
   "source": [
    "def transform_answer(answer):\n",
    "    if answer == \"Can't answer\":\n",
    "        return [False, ] * 4 + [True, False]\n",
    "    elif answer == \"Odd question\":\n",
    "        return [False, ] * 4 + [False, True]\n",
    "    elif answer == \"\":\n",
    "        return [False, ] * 6\n",
    "    else:\n",
    "        answer = [int(d) for d in answer.split(\", \")]\n",
    "        return [i in answer for i in range(4)] + [False, False]\n"
   ],
   "metadata": {
    "collapsed": false
   },
   "id": "e7748aa2cb1264e6",
   "outputs": [],
   "execution_count": null
  },
  {
   "cell_type": "code",
   "source": [
    "annotation_df[\"answer\"] = annotation_df[\"answer\"].apply(transform_answer)\n",
    "annotation_df"
   ],
   "metadata": {
    "collapsed": false
   },
   "id": "6ab88f6d35db7f37",
   "outputs": [],
   "execution_count": null
  },
  {
   "cell_type": "code",
   "source": [
    "answer_names_dict = {0: \"correct\", 1: \"distractor1\", 2: \"distractor2\", 3: \"distractor3\", 4: \"cant_answer\",\n",
    "                     5: \"odd_question\"}\n",
    "answer_names = list(answer_names_dict.values())\n",
    "annotation_df = annotation_df.merge(annotation_df[\"answer\"].apply(pd.Series).rename(columns=answer_names_dict),\n",
    "                                    left_index=True, right_index=True).drop(columns=[\"answer\"])"
   ],
   "metadata": {
    "collapsed": false
   },
   "id": "762eb7286d3e6560",
   "outputs": [],
   "execution_count": null
  },
  {
   "cell_type": "code",
   "source": [
    "annotation_df"
   ],
   "metadata": {
    "collapsed": false
   },
   "id": "7ea7393c429ff3c5",
   "outputs": [],
   "execution_count": null
  },
  {
   "cell_type": "code",
   "source": [
    "# drop cant_answer\n",
    "annotation_df = annotation_df[~annotation_df[\"cant_answer\"]]\n",
    "annotation_df = annotation_df.drop(columns=[\"cant_answer\"])"
   ],
   "metadata": {
    "collapsed": false
   },
   "id": "506aca58b5f03b2c",
   "outputs": [],
   "execution_count": null
  },
  {
   "cell_type": "code",
   "source": [
    "annotation_df"
   ],
   "metadata": {
    "collapsed": false
   },
   "id": "d675466892b93f0b",
   "outputs": [],
   "execution_count": null
  },
  {
   "cell_type": "code",
   "source": [
    "# num annotations per question\n",
    "annotation_df.groupby(\"question_id\").size().value_counts()\n"
   ],
   "metadata": {
    "collapsed": false
   },
   "id": "e37133cf4cb2d9d5",
   "outputs": [],
   "execution_count": null
  },
  {
   "cell_type": "code",
   "source": [
    "annotation_df.groupby([\"participant_id\", \"question_id\"]).size().value_counts()"
   ],
   "metadata": {
    "collapsed": false
   },
   "id": "548449180d505fcf",
   "outputs": [],
   "execution_count": null
  },
  {
   "cell_type": "code",
   "source": [
    "# questions annotated multiple times by the same participant_id\n",
    "annotation_df.groupby([\"participant_id\", \"question_id\"]).size()[lambda x: x > 1].index.get_level_values(\n",
    "    \"participant_id\").unique().size"
   ],
   "metadata": {
    "collapsed": false
   },
   "id": "b4a7cd561b8ea0aa",
   "outputs": [],
   "execution_count": null
  },
  {
   "cell_type": "code",
   "source": [
    "# filter questions with less than 3 answers\n",
    "annotation_count_qid = annotation_df.groupby(\"question_id\").count()[\"participant_id\"]\n",
    "under_annotated_ids = annotation_count_qid[annotation_count_qid < 3].index\n",
    "annotation_df = annotation_df[~annotation_df[\"question_id\"].isin(under_annotated_ids)]"
   ],
   "metadata": {
    "collapsed": false
   },
   "id": "b6fb87f6c8792770",
   "outputs": [],
   "execution_count": null
  },
  {
   "cell_type": "code",
   "source": [
    "# plot count for correct, distractors, cant_answer, odd_question\n",
    "answer_names = list(sorted(set(answer_names) - {\"cant_answer\"}))\n",
    "all_counts = annotation_df[answer_names].mean()\n",
    "sdd_counts = annotation_df[annotation_df[\"dataset\"] == \"sdd\"][answer_names].mean()\n",
    "mc_counts = annotation_df[annotation_df[\"dataset\"] == \"musiccaps\"][answer_names].mean()\n",
    "merged_counts = pd.concat([all_counts, sdd_counts, mc_counts], axis=1, keys=[\"both\", \"sdd\", \"mc\"])\n",
    "ax = merged_counts.plot(kind=\"bar\", title=\"Answer distribution\", ylabel=\"Fraction of answers\")\n",
    "ax.get_figure().savefig(\"data/plots/answer_distribution.png\")"
   ],
   "metadata": {
    "collapsed": false
   },
   "id": "9ef9a327294b2b72",
   "outputs": [],
   "execution_count": null
  },
  {
   "cell_type": "code",
   "source": [
    "aggregators = dict.fromkeys(\n",
    "    [\"time\", \"correct\", \"distractor1\", \"distractor2\", \"distractor3\", \"odd_question\"], \"mean\")\n",
    "aggregators.update(dict.fromkeys([\"question\", \"dataset\", \"correct_answer\", \"distractor_1_answer\", \"distractor_2_answer\",\n",
    "                                  \"distractor_3_answer\", \"dataset_identifier\"], \"first\"))\n",
    "aggregators.update({\"participant_id\": \"nunique\"})\n",
    "benchmark_df = annotation_df.groupby(\"question_id\").agg(aggregators)"
   ],
   "metadata": {
    "collapsed": false
   },
   "id": "9567d40cd7c76217",
   "outputs": [],
   "execution_count": null
  },
  {
   "cell_type": "code",
   "source": [
    "benchmark_df"
   ],
   "metadata": {
    "collapsed": false
   },
   "id": "d75dbcbdf9455860",
   "outputs": [],
   "execution_count": null
  },
  {
   "cell_type": "code",
   "source": [
    "benchmark_df[\"distractors\"] = benchmark_df[[\"distractor1\", \"distractor2\", \"distractor3\"]].max(axis=1)"
   ],
   "metadata": {
    "collapsed": false
   },
   "id": "9ea84966b72c6a80",
   "outputs": [],
   "execution_count": null
  },
  {
   "cell_type": "code",
   "source": [
    "benchmark_df[(benchmark_df[\"correct\"] >= 0.5) & (benchmark_df[\"distractors\"] <= 0.5)]"
   ],
   "metadata": {
    "collapsed": false
   },
   "id": "537075fb6c02c5a5",
   "outputs": [],
   "execution_count": null
  },
  {
   "cell_type": "code",
   "source": [
    "benchmark_df[(benchmark_df[\"correct\"] > 0.5) & (benchmark_df[\"distractors\"] <= 0.5)]"
   ],
   "metadata": {
    "collapsed": false
   },
   "id": "464a6c9002c5976a",
   "outputs": [],
   "execution_count": null
  },
  {
   "cell_type": "code",
   "source": [
    "benchmark_df[(benchmark_df[\"correct\"] > 0.5) & (benchmark_df[\"distractors\"] < 0.5)]"
   ],
   "metadata": {
    "collapsed": false
   },
   "id": "d7533945cb2b1167",
   "outputs": [],
   "execution_count": null
  },
  {
   "cell_type": "code",
   "source": [
    "len(benchmark_df[benchmark_df[\"correct\"] >= 0.5])"
   ],
   "metadata": {
    "collapsed": false
   },
   "id": "90d693fa86d404da",
   "outputs": [],
   "execution_count": null
  },
  {
   "cell_type": "code",
   "source": [
    "len(benchmark_df[benchmark_df[\"correct\"] > 0.5])"
   ],
   "metadata": {
    "collapsed": false
   },
   "id": "c789455c4f6c255e",
   "outputs": [],
   "execution_count": null
  },
  {
   "cell_type": "markdown",
   "source": [],
   "metadata": {
    "collapsed": false
   },
   "id": "abc6a3f513ead317"
  },
  {
   "cell_type": "code",
   "source": [
    "print(\"correct >= 0.5\\t& distractors <= 0.5\", len(benchmark_df[(benchmark_df[\"correct\"] >= 0.5) & (benchmark_df[\"distractors\"] <= 0.5)]), sep=\"\\t\")\n",
    "print(\"correct >= 0.5 & distractors < 0.5\", len(benchmark_df[(benchmark_df[\"correct\"] >= 0.5) & (benchmark_df[\"distractors\"] < 0.5)]), sep=\"\\t\")\n",
    "print(\"correct >  0.5\\t& distractors <= 0.5\", len(benchmark_df[(benchmark_df[\"correct\"] > 0.5) & (benchmark_df[\"distractors\"] <= 0.5)]), sep=\"\\t\")\n",
    "print(\"correct >  0.5\\t& distractors <  0.5\", len(benchmark_df[(benchmark_df[\"correct\"] > 0.5) & (benchmark_df[\"distractors\"] < 0.5)]) , sep=\"\\t\")\n",
    "print(\"correct >= 0.5\\t& distractors <= 0.5 & correct > distractors\", len(benchmark_df[(benchmark_df[\"correct\"] >= 0.5) & (benchmark_df[\"distractors\"] <= 0.5) & (benchmark_df[\"correct\"] > benchmark_df[\"distractors\"])]), sep=\"\\t\")"
   ],
   "metadata": {
    "collapsed": false
   },
   "id": "aa7134117e03d524",
   "outputs": [],
   "execution_count": null
  },
  {
   "cell_type": "code",
   "source": [
    "final_benchmark = benchmark_df[(benchmark_df[\"correct\"] >= 0.5) & (benchmark_df[\"distractors\"] <= 0.5)].drop(columns=[\"time\"]).rename(columns={\"participant_id\": \"num_annotations\"})\n",
    "sdd_meta = pd.read_csv(\"data/SongDescriberDataset/song_describer-for-generation.csv\", index_col=\"track_id\", usecols=[\"track_id\", \"genre\"], dtype={\"track_id\": str})\n",
    "mc_meta = pd.read_csv(\"data/musiccaps/musiccaps-for-generation.csv\")\n",
    "mc_meta[\"identifier\"] = mc_meta[\"ytid\"] + \"_\" + mc_meta[\"start_s\"].astype(str)\n",
    "mc_meta = mc_meta.set_index(\"identifier\")\n",
    "genres = sdd_meta[\"genre\"].to_dict()\n",
    "genres.update(mc_meta[\"genres\"].to_dict())\n",
    "final_benchmark[\"genre\"] = final_benchmark[\"dataset_identifier\"].map(genres)"
   ],
   "metadata": {
    "collapsed": false
   },
   "id": "7b73f915f446a7bd",
   "outputs": [],
   "execution_count": null
  },
  {
   "cell_type": "code",
   "source": [
    "final_benchmark.reset_index().to_csv(\"data/benchmark.csv\", index=False)"
   ],
   "metadata": {
    "collapsed": false
   },
   "id": "43a8940a43e5b92",
   "outputs": [],
   "execution_count": null
  },
  {
   "cell_type": "code",
   "source": [
    "print(\"correct == 0.5\", len(benchmark_df[benchmark_df[\"correct\"] == 0.5]), sep=\"\\t\")\n",
    "print(\"distractors == 0.5\", len(benchmark_df[benchmark_df[\"distractors\"] == 0.5]), sep=\"\\t\")\n",
    "print(\"correct == 0.5 & distractors == 0.5\", len(benchmark_df[(benchmark_df[\"correct\"] == 0.5) & (benchmark_df[\"distractors\"] == 0.5)]), sep=\"\\t\")\n",
    "print(\"correct >= 0.5 & distractors == 0.5\", len(benchmark_df[(benchmark_df[\"correct\"] >= 0.5) & (benchmark_df[\"distractors\"] == 0.5)]), sep=\"\\t\")"
   ],
   "metadata": {
    "collapsed": false
   },
   "id": "92339944ee73f5de",
   "outputs": [],
   "execution_count": null
  },
  {
   "cell_type": "code",
   "source": [
    "benchmark_df[(benchmark_df[\"distractors\"] == 0.5) & (benchmark_df[\"correct\"] >= 0.5)].index.tolist()"
   ],
   "metadata": {
    "collapsed": false
   },
   "id": "d2d4171db98b7b5d",
   "outputs": [],
   "execution_count": null
  },
  {
   "cell_type": "code",
   "source": [
    "benchmark_df[(benchmark_df[\"distractors\"] <= 0.7) & (benchmark_df[\"correct\"] > 0.3) & (benchmark_df[\"correct\"] < 0.7) & (benchmark_df[\"distractors\"] > 0.3) & (benchmark_df[\"participant_id\"] < 5)]"
   ],
   "metadata": {
    "collapsed": false
   },
   "id": "6e550b3fa7e196b4",
   "outputs": [],
   "execution_count": null
  },
  {
   "cell_type": "code",
   "source": [
    "#correct >= 0.5 & distractors == 0.5 plus correct == 0.5 & distractors < 0.5\n",
    "len(benchmark_df[(benchmark_df[\"correct\"] >= 0.5) & (benchmark_df[\"distractors\"] == 0.5)]) + len(benchmark_df[(benchmark_df[\"correct\"] == 0.5) & (benchmark_df[\"distractors\"] < 0.5)])"
   ],
   "metadata": {
    "collapsed": false
   },
   "id": "d18c9feae50e8168",
   "outputs": [],
   "execution_count": null
  },
  {
   "cell_type": "code",
   "source": [
    "benchmark_df[(benchmark_df[\"correct\"] > 0.5) & (benchmark_df[\"distractors\"] < 0.5) & (benchmark_df[\"participant_id\"] > 3)]"
   ],
   "metadata": {
    "collapsed": false
   },
   "id": "7a692339d9d28dd4",
   "outputs": [],
   "execution_count": null
  },
  {
   "cell_type": "code",
   "source": [
    "benchmark_df[(benchmark_df[\"correct\"] > 0.75) & #(benchmark_df[\"correct\"] < 1) &\n",
    "             (benchmark_df[\"distractors\"] < 0.5) & (benchmark_df[\"distractors\"] > 0.3) &\n",
    "             (benchmark_df[\"participant_id\"] == 3)\n",
    "             & (benchmark_df[\"odd_question\"] < 0.2)\n",
    "].index.tolist()"
   ],
   "metadata": {
    "collapsed": false
   },
   "id": "aeed3916e34d188c",
   "outputs": [],
   "execution_count": null
  },
  {
   "cell_type": "code",
   "source": [
    "benchmark_df[(benchmark_df[\"correct\"] < 0.5) &\n",
    "                (benchmark_df[\"distractors\"] > 0.5) &\n",
    "                (benchmark_df[\"participant_id\"] > 2)]"
   ],
   "metadata": {
    "collapsed": false
   },
   "id": "362ba87fadfd7f5c",
   "outputs": [],
   "execution_count": null
  },
  {
   "cell_type": "code",
   "source": [
    "benchmark_df[\n",
    "    (benchmark_df[\"correct\"] < 0.5) &\n",
    "    (benchmark_df[\"distractors\"] > 0.5) &\n",
    "    (benchmark_df[\"participant_id\"] == 5) &\n",
    "    (benchmark_df[\"odd_question\"] < 0.2)\n",
    "].index.tolist()"
   ],
   "metadata": {
    "collapsed": false
   },
   "id": "a3d1bc6e89e09f8b",
   "outputs": [],
   "execution_count": null
  },
  {
   "cell_type": "code",
   "source": [
    "# suburst_chart first words of questions\n",
    "final_benchmark[\"first_words\"] = final_benchmark[\"question\"].str.split().str[:2]\n",
    "final_benchmark[\"first_words\"].value_counts()"
   ],
   "metadata": {
    "collapsed": false
   },
   "id": "81da341abb0efc2d",
   "outputs": [],
   "execution_count": null
  },
  {
   "cell_type": "code",
   "source": [
    "final_benchmark[\"first_words\"].str[0].value_counts()"
   ],
   "metadata": {
    "collapsed": false
   },
   "id": "768a0a3d99b4d3b1",
   "outputs": [],
   "execution_count": null
  },
  {
   "cell_type": "code",
   "source": [
    "# split in two columns\n",
    "final_benchmark[\"first_word\"] = final_benchmark[\"first_words\"].str[0]\n",
    "final_benchmark[\"second_word\"] = final_benchmark[\"first_words\"].str[1]\n",
    "final_benchmark = final_benchmark.drop(columns=[\"first_words\"])\n",
    "#group by\n",
    "question_start = final_benchmark.groupby([\"first_word\", \"second_word\"]).size().reset_index(name=\"count\")"
   ],
   "metadata": {
    "collapsed": false
   },
   "id": "8359c1d89bfe7c6a",
   "outputs": [],
   "execution_count": null
  },
  {
   "cell_type": "code",
   "source": [
    "import plotly.express as px\n",
    "fig = px.sunburst(\n",
    "    question_start[question_start[\"count\"] > 9],\n",
    "    path=[\"first_word\", \"second_word\"],\n",
    "    values=\"count\",\n",
    "    title=\"Sunburst chart of first two words of questions\"\n",
    ")\n",
    "fig.show()\n"
   ],
   "metadata": {
    "collapsed": false
   },
   "id": "3221c9f8a08359c3",
   "outputs": [],
   "execution_count": null
  },
  {
   "cell_type": "code",
   "source": [
    "# save as PNG\n",
    "fig.write_image(\"data/plots/question_sunburst.png\")"
   ],
   "metadata": {
    "collapsed": false
   },
   "id": "ea2e823af3214ca5",
   "outputs": [],
   "execution_count": null
  },
  {
   "cell_type": "code",
   "source": [
    "# set paper style\n",
    "sns.set_context(\"paper\")"
   ],
   "metadata": {
    "collapsed": false
   },
   "id": "b419e643c49c1f2",
   "outputs": [],
   "execution_count": null
  },
  {
   "cell_type": "code",
   "source": [
    "# plot distribution of correct answers\n",
    "sns.histplot(data=final_benchmark, x=\"correct\", hue=\"dataset\")"
   ],
   "metadata": {
    "collapsed": false
   },
   "id": "abf1ec47c0e8d456",
   "outputs": [],
   "execution_count": null
  },
  {
   "cell_type": "code",
   "source": [
    "# plot distribution of \n",
    "sns.histplot(data=final_benchmark, x=\"distractors\", hue=\"dataset\")"
   ],
   "metadata": {
    "collapsed": false
   },
   "id": "be397a246cc92c20",
   "outputs": [],
   "execution_count": null
  },
  {
   "cell_type": "code",
   "source": [
    "# plot number of annotations\n",
    "sns.histplot(data=final_benchmark, x=\"num_annotations\", hue=\"dataset\")"
   ],
   "metadata": {
    "collapsed": false
   },
   "id": "41b28273a839b345",
   "outputs": [],
   "execution_count": null
  },
  {
   "cell_type": "code",
   "source": [
    "print(\"distinct dataset identifiers\", final_benchmark[\"dataset_identifier\"].nunique())\n",
    "final_benchmark[\"dataset\"].value_counts()"
   ],
   "metadata": {
    "collapsed": false
   },
   "id": "a57d041227622254",
   "outputs": [],
   "execution_count": null
  },
  {
   "cell_type": "code",
   "source": [
    "# plot dataset_identifier distribution and question distribution per dataset\n",
    "ax = sns.countplot(data=final_benchmark, x=\"dataset\")\n",
    "ax.set_title(\"Num questions per dataset\")\n",
    "ax.get_figure().savefig(\"data/plots/num_questions_per_dataset.png\")"
   ],
   "metadata": {
    "collapsed": false
   },
   "id": "f92df0fbeabf1379",
   "outputs": [],
   "execution_count": null
  },
  {
   "cell_type": "code",
   "source": [
    "# distinct dataset identifiers\n",
    "final_benchmark[\"dataset_identifier\"].value_counts()\n",
    "ax = sns.countplot(data=final_benchmark[[\"dataset_identifier\", \"dataset\"]].drop_duplicates(), x=\"dataset\")\n",
    "ax.set_title(\"Num tracks per dataset\")\n",
    "ax.get_figure().savefig(\"data/plots/num_tracks_per_dataset.png\")"
   ],
   "metadata": {
    "collapsed": false
   },
   "id": "b75ac7b648e6ea63",
   "outputs": [],
   "execution_count": null
  },
  {
   "cell_type": "code",
   "source": [
    "#final_benchmark[\"dataset_identifier\", \"dataset\"].drop_duplicates()\n",
    "final_benchmark[[\"dataset_identifier\", \"dataset\"]].drop_duplicates().groupby(\"dataset\").size()"
   ],
   "metadata": {
    "collapsed": false
   },
   "id": "c4164a81f0826a0f",
   "outputs": [],
   "execution_count": null
  },
  {
   "cell_type": "code",
   "source": [
    "# plot genre distribution\n",
    "ax = sns.histplot(data=final_benchmark, x=\"genre\", hue=\"dataset\", multiple=\"stack\")\n",
    "# rotate x labels\n",
    "ax.set_title(\"Genre distribution\")\n",
    "labels = ax.get_xticklabels()  # get x labels\n",
    "\n",
    "ax.set_xticklabels(labels, rotation=90)\n",
    "ax.get_figure().savefig(\"data/plots/genre_distribution.png\")"
   ],
   "metadata": {
    "collapsed": false
   },
   "id": "c8cb5c740317c331",
   "outputs": [],
   "execution_count": null
  },
  {
   "cell_type": "code",
   "source": [],
   "metadata": {
    "collapsed": false
   },
   "id": "908870e1cc0ab068",
   "outputs": [],
   "execution_count": null
  }
 ],
 "metadata": {
  "kernelspec": {
   "display_name": "Python 3",
   "language": "python",
   "name": "python3"
  },
  "language_info": {
   "codemirror_mode": {
    "name": "ipython",
    "version": 2
   },
   "file_extension": ".py",
   "mimetype": "text/x-python",
   "name": "python",
   "nbconvert_exporter": "python",
   "pygments_lexer": "ipython2",
   "version": "2.7.6"
  }
 },
 "nbformat": 4,
 "nbformat_minor": 5
}
